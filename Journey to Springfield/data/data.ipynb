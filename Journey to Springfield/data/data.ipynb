{
  "nbformat": 4,
  "nbformat_minor": 0,
  "metadata": {
    "colab": {
      "provenance": []
    },
    "kernelspec": {
      "name": "python3",
      "display_name": "Python 3"
    },
    "language_info": {
      "name": "python"
    }
  },
  "cells": [
    {
      "cell_type": "markdown",
      "source": [
        "Для скачивания вам нужен API kaggle"
      ],
      "metadata": {
        "id": "teZOzZJ5rFfe"
      }
    },
    {
      "cell_type": "code",
      "execution_count": null,
      "metadata": {
        "id": "aK_0zeswrCTf"
      },
      "outputs": [],
      "source": [
        "!pip install kaggle\n",
        "!mkdir -p ~/.kaggle\n",
        "!cp kaggle.json ~/.kaggle/\n",
        "!chmod 600 ~/.kaggle/kaggle.json\n",
        "!kaggle competitions download -c 'journey-springfield'\n",
        "\n",
        "import zipfile\n",
        "with zipfile.ZipFile('journey-springfield.zip', 'r') as zip_ref:\n",
        "    zip_ref.extractall('.')"
      ]
    }
  ]
}